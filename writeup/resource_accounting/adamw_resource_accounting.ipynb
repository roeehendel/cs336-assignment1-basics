{
 "cells": [
  {
   "cell_type": "code",
   "execution_count": null,
   "metadata": {},
   "outputs": [
    {
     "name": "stdout",
     "output_type": "stream",
     "text": [
      "22.69M\n",
      "17.57M\n",
      "22.70M\n",
      "420.27 MB\n"
     ]
    }
   ],
   "source": [
    "from configs.tinystories_config import config\n",
    "from cs336_basics.models.transformer_lm import TransformerLM\n",
    "from writeup.resource_accounting.transformer_lm_resource_accounting import (\n",
    "    count_lm_transformer_adamw_memory_usage,\n",
    "    count_transformer_lm_params,\n",
    "    format_bytes,\n",
    "    format_params_count,\n",
    ")\n",
    "\n",
    "cfg = config.model\n",
    "\n",
    "params_count = count_transformer_lm_params(cfg)\n",
    "print(format_params_count(params_count[\"total\"]))\n",
    "print(format_params_count(params_count[\"non_embeddings\"]))\n",
    "\n",
    "model = TransformerLM(cfg)\n",
    "total_params_count = sum(p.numel() for p in model.parameters())\n",
    "print(format_params_count(total_params_count))\n",
    "\n",
    "\n",
    "memory_bytes = count_lm_transformer_adamw_memory_usage(\n",
    "    cfg=cfg,\n",
    "    batch_size=8,\n",
    ")\n",
    "\n",
    "print(format_bytes(memory_bytes[\"total\"]))\n",
    "\n",
    "# for key, value in memory_bytes.items():\n",
    "#     print(f\"{key}: {value / 2**30:.2f} GB\")"
   ]
  }
 ],
 "metadata": {
  "kernelspec": {
   "display_name": ".venv",
   "language": "python",
   "name": "python3"
  },
  "language_info": {
   "codemirror_mode": {
    "name": "ipython",
    "version": 3
   },
   "file_extension": ".py",
   "mimetype": "text/x-python",
   "name": "python",
   "nbconvert_exporter": "python",
   "pygments_lexer": "ipython3",
   "version": "3.13.3"
  }
 },
 "nbformat": 4,
 "nbformat_minor": 2
}
