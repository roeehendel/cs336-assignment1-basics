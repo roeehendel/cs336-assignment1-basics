{
 "cells": [
  {
   "cell_type": "code",
   "execution_count": 1,
   "metadata": {},
   "outputs": [],
   "source": [
    "%load_ext autoreload\n",
    "%autoreload 2"
   ]
  },
  {
   "cell_type": "code",
   "execution_count": 19,
   "metadata": {},
   "outputs": [
    {
     "name": "stdout",
     "output_type": "stream",
     "text": [
      "gpt-2-small\n",
      "- glu=0.17 (49.75%)\n",
      "- mha=0.10 (27.64%)\n",
      " - qkv_proj=0.04 (12.44%)\n",
      " - rope=0.00 (0.00%)\n",
      " - attn=0.04 (11.06%)\n",
      " - output_proj=0.01 (4.15%)\n",
      "- lm_head=0.08 (22.61%)\n",
      "---\n",
      "gpt-2-medium\n",
      "- glu=0.62 (59.87%)\n",
      "- mha=0.31 (29.93%)\n",
      " - qkv_proj=0.15 (14.97%)\n",
      " - rope=0.00 (0.00%)\n",
      " - attn=0.10 (9.98%)\n",
      " - output_proj=0.05 (4.99%)\n",
      "- lm_head=0.11 (10.20%)\n",
      "---\n",
      "gpt-2-large\n",
      "- glu=1.45 (64.20%)\n",
      "- mha=0.68 (29.96%)\n",
      " - qkv_proj=0.36 (16.05%)\n",
      " - rope=0.00 (0.00%)\n",
      " - attn=0.19 (8.56%)\n",
      " - output_proj=0.12 (5.35%)\n",
      "- lm_head=0.13 (5.84%)\n",
      "---\n",
      "gpt-2-xl\n",
      "- glu=3.02 (66.91%)\n",
      "- mha=1.33 (29.44%)\n",
      " - qkv_proj=0.75 (16.73%)\n",
      " - rope=0.00 (0.00%)\n",
      " - attn=0.32 (7.14%)\n",
      " - output_proj=0.25 (5.58%)\n",
      "- lm_head=0.16 (3.65%)\n",
      "---\n"
     ]
    }
   ],
   "source": [
    "from writeup.resource_accounting.transformer_lm_resource_accounting import (\n",
    "    GPT_2_CONFIGS,\n",
    "    calc_transformer_lm_flops,\n",
    "    print_flops_dict,\n",
    ")\n",
    "\n",
    "for model_name, model_config in GPT_2_CONFIGS.items():\n",
    "    print(f\"gpt-2-{model_name}\")\n",
    "    flop_counts = calc_transformer_lm_flops(model_config)\n",
    "    print_flops_dict(flop_counts)\n",
    "    print(\"-\" * 3)"
   ]
  },
  {
   "cell_type": "code",
   "execution_count": 18,
   "metadata": {},
   "outputs": [
    {
     "name": "stdout",
     "output_type": "stream",
     "text": [
      "**gpt-2-xl with large context length**\n",
      "- glu=48.32 (32.31%)\n",
      "- mha=98.57 (65.92%)\n",
      " - qkv_proj=12.08 (8.08%)\n",
      " - rope=0.00 (0.00%)\n",
      " - attn=82.46 (55.15%)\n",
      " - output_proj=4.03 (2.69%)\n",
      "- lm_head=2.63 (1.76%)\n"
     ]
    }
   ],
   "source": [
    "print(\"**gpt-2-xl with large context length**\")\n",
    "flop_counts = calc_transformer_lm_flops(GPT_2_CONFIGS[\"xl\"].model_copy(update={\"context_length\": 16_384}))\n",
    "print_flops_dict(flop_counts)"
   ]
  }
 ],
 "metadata": {
  "kernelspec": {
   "display_name": ".venv",
   "language": "python",
   "name": "python3"
  },
  "language_info": {
   "codemirror_mode": {
    "name": "ipython",
    "version": 3
   },
   "file_extension": ".py",
   "mimetype": "text/x-python",
   "name": "python",
   "nbconvert_exporter": "python",
   "pygments_lexer": "ipython3",
   "version": "3.13.3"
  }
 },
 "nbformat": 4,
 "nbformat_minor": 2
}
