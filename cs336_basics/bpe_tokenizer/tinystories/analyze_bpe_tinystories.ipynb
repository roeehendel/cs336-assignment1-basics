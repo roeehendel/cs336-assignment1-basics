{
 "cells": [
  {
   "cell_type": "code",
   "execution_count": 1,
   "metadata": {},
   "outputs": [],
   "source": [
    "from cs336_basics.bpe_tokenizer.serialization import load_merges, load_vocab\n",
    "from cs336_basics.bpe_tokenizer.tinystories.train_bpe_tinystories import TS_MERGES_FILE, TS_VOCAB_FILE\n",
    "\n",
    "vocab = load_vocab(TS_VOCAB_FILE)\n",
    "merges = load_merges(TS_MERGES_FILE)"
   ]
  },
  {
   "cell_type": "code",
   "execution_count": 13,
   "metadata": {},
   "outputs": [
    {
     "data": {
      "text/plain": [
       "(b' accomplishment', 15)"
      ]
     },
     "execution_count": 13,
     "metadata": {},
     "output_type": "execute_result"
    }
   ],
   "source": [
    "longest_token = max((token for token in vocab.values()), key=lambda token: len(token))\n",
    "longest_token, len(longest_token)"
   ]
  }
 ],
 "metadata": {
  "kernelspec": {
   "display_name": ".venv",
   "language": "python",
   "name": "python3"
  },
  "language_info": {
   "codemirror_mode": {
    "name": "ipython",
    "version": 3
   },
   "file_extension": ".py",
   "mimetype": "text/x-python",
   "name": "python",
   "nbconvert_exporter": "python",
   "pygments_lexer": "ipython3",
   "version": "3.13.3"
  }
 },
 "nbformat": 4,
 "nbformat_minor": 2
}
