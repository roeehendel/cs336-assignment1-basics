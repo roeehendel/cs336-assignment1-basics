{
 "cells": [
  {
   "cell_type": "code",
   "execution_count": 1,
   "metadata": {},
   "outputs": [],
   "source": [
    "%load_ext autoreload\n",
    "%autoreload 2"
   ]
  },
  {
   "cell_type": "code",
   "execution_count": 27,
   "metadata": {},
   "outputs": [
    {
     "name": "stdout",
     "output_type": "stream",
     "text": [
      "torch.Size([2, 5]) torch.Size([2, 5])\n"
     ]
    }
   ],
   "source": [
    "import torch\n",
    "from jaxtyping import Float, Int\n",
    "from torch import Tensor\n",
    "\n",
    "torch.random.manual_seed(0)\n",
    "\n",
    "batch_size = 2\n",
    "seq_len = 5\n",
    "vocab_size = 7\n",
    "\n",
    "logits: Float[Tensor, \"... vocab_size\"] = torch.randn((batch_size, seq_len, vocab_size))\n",
    "targets: Int[Tensor, \"...\"] = torch.randint(0, vocab_size, (batch_size, seq_len))\n",
    "\n",
    "logits = logits - logits.max(dim=-1, keepdim=True)[0]\n",
    "\n",
    "target_logits = torch.gather(input=logits, dim=-1, index=targets.unsqueeze(-1)).squeeze()\n",
    "\n",
    "normalizer = torch.log(logits.exp().sum(dim=-1))\n",
    "\n",
    "print(target_logits.shape, normalizer.shape)\n",
    "\n",
    "loss = target_logits - normalizer"
   ]
  }
 ],
 "metadata": {
  "kernelspec": {
   "display_name": ".venv",
   "language": "python",
   "name": "python3"
  },
  "language_info": {
   "codemirror_mode": {
    "name": "ipython",
    "version": 3
   },
   "file_extension": ".py",
   "mimetype": "text/x-python",
   "name": "python",
   "nbconvert_exporter": "python",
   "pygments_lexer": "ipython3",
   "version": "3.13.3"
  }
 },
 "nbformat": 4,
 "nbformat_minor": 2
}
