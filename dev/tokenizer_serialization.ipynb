{
 "cells": [
  {
   "cell_type": "code",
   "execution_count": 1,
   "metadata": {},
   "outputs": [],
   "source": [
    "%load_ext autoreload\n",
    "%autoreload 2"
   ]
  },
  {
   "cell_type": "code",
   "execution_count": 14,
   "metadata": {},
   "outputs": [
    {
     "name": "stderr",
     "output_type": "stream",
     "text": [
      "100%|██████████| 1062/1062 [00:32<00:00, 33.16it/s]\n",
      "Merging: 100%|██████████| 9743/9743 [00:39<00:00, 247.91it/s]\n"
     ]
    }
   ],
   "source": [
    "from cs336_basics.bpe_tokenizer.bpe_tokenizer_training import train_bpe_fast\n",
    "\n",
    "vocab, merges = train_bpe_fast(\n",
    "    # input_path=\"data/TinyStoriesV2-GPT4-sample.txt\",\n",
    "    # input_path=\"data/TinyStoriesV2-GPT4-valid.txt\",\n",
    "    input_path=\"data/TinyStoriesV2-GPT4-train.txt\",\n",
    "    vocab_size=10_000,\n",
    "    special_tokens=[\"<|endoftext|>\"],\n",
    "    verbose=True,\n",
    "    # num_processes=-1,\n",
    ")"
   ]
  },
  {
   "cell_type": "code",
   "execution_count": 8,
   "metadata": {},
   "outputs": [],
   "source": [
    "from cs336_basics.bpe_tokenizer.serialization import load_merges, load_vocab, save_merges, save_vocab\n",
    "from scripts.bpe_tokenizer.tinystories.train_bpe_tinystories import TS_MERGES_FILE, TS_VOCAB_FILE\n",
    "\n",
    "save_vocab(vocab, TS_VOCAB_FILE)\n",
    "save_merges(merges, TS_MERGES_FILE)\n",
    "\n",
    "loaded_vocab = load_vocab(TS_VOCAB_FILE)\n",
    "loaded_merges = load_merges(TS_MERGES_FILE)\n",
    "\n",
    "assert loaded_merges == merges\n",
    "assert vocab == loaded_vocab"
   ]
  }
 ],
 "metadata": {
  "kernelspec": {
   "display_name": ".venv",
   "language": "python",
   "name": "python3"
  },
  "language_info": {
   "codemirror_mode": {
    "name": "ipython",
    "version": 3
   },
   "file_extension": ".py",
   "mimetype": "text/x-python",
   "name": "python",
   "nbconvert_exporter": "python",
   "pygments_lexer": "ipython3",
   "version": "3.13.3"
  }
 },
 "nbformat": 4,
 "nbformat_minor": 2
}
