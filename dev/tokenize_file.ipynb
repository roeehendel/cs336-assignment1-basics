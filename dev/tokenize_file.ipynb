{
 "cells": [
  {
   "cell_type": "code",
   "execution_count": 5,
   "metadata": {},
   "outputs": [],
   "source": []
  },
  {
   "cell_type": "code",
   "execution_count": 2,
   "metadata": {},
   "outputs": [],
   "source": [
    "from scripts.data.paths import TS_VALID_FILE\n",
    "\n",
    "input_file = TS_VALID_FILE\n",
    "\n",
    "with open(input_file) as f:\n",
    "    text = f.read()"
   ]
  },
  {
   "cell_type": "code",
   "execution_count": 3,
   "metadata": {},
   "outputs": [],
   "source": [
    "import numpy as np\n",
    "\n",
    "token_ids = np.array(tokenizer.encode(text), dtype=np.uint16)"
   ]
  },
  {
   "cell_type": "code",
   "execution_count": 10,
   "metadata": {},
   "outputs": [],
   "source": [
    "import os\n",
    "\n",
    "import numpy as np\n",
    "\n",
    "from scripts.data.paths import OUTPUT_DIR\n",
    "\n",
    "TOKENIZED_DIR = os.path.join(OUTPUT_DIR, \"token_ids\")\n",
    "\n",
    "os.makedirs(TOKENIZED_DIR, exist_ok=True)\n",
    "\n",
    "output_file = os.path.join(TOKENIZED_DIR, f\"{os.path.basename(input_file)}.npy\")\n",
    "\n",
    "np.save(output_file, token_ids)"
   ]
  }
 ],
 "metadata": {
  "kernelspec": {
   "display_name": ".venv",
   "language": "python",
   "name": "python3"
  },
  "language_info": {
   "codemirror_mode": {
    "name": "ipython",
    "version": 3
   },
   "file_extension": ".py",
   "mimetype": "text/x-python",
   "name": "python",
   "nbconvert_exporter": "python",
   "pygments_lexer": "ipython3",
   "version": "3.13.3"
  }
 },
 "nbformat": 4,
 "nbformat_minor": 2
}
