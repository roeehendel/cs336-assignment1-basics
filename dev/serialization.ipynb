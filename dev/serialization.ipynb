{
 "cells": [
  {
   "cell_type": "code",
   "execution_count": 1,
   "metadata": {},
   "outputs": [],
   "source": [
    "%load_ext autoreload\n",
    "%autoreload 2"
   ]
  },
  {
   "cell_type": "code",
   "execution_count": 2,
   "metadata": {},
   "outputs": [
    {
     "name": "stdout",
     "output_type": "stream",
     "text": [
      "Pre-tokenizing\n"
     ]
    },
    {
     "name": "stderr",
     "output_type": "stream",
     "text": [
      "100it [00:00, 269.26it/s]\n"
     ]
    },
    {
     "name": "stdout",
     "output_type": "stream",
     "text": [
      "Pre-tokenizated in 0.43 seconds\n"
     ]
    },
    {
     "name": "stderr",
     "output_type": "stream",
     "text": [
      "100%|██████████| 9743/9743 [00:05<00:00, 1646.77it/s]\n"
     ]
    }
   ],
   "source": [
    "from cs336_basics.bpe_tokenizer.train_bpe import fast_bpe\n",
    "\n",
    "vocab, merges = fast_bpe(\n",
    "    # input_path=\"data/TinyStoriesV2-GPT4-sample.txt\",\n",
    "    input_path=\"data/TinyStoriesV2-GPT4-valid.txt\",\n",
    "    # input_path=\"data/TinyStoriesV2-GPT4-train.txt\",\n",
    "    vocab_size=10_000,\n",
    "    special_tokens=[\"<|endoftext|>\"],\n",
    ")"
   ]
  },
  {
   "cell_type": "code",
   "execution_count": 5,
   "metadata": {},
   "outputs": [],
   "source": [
    "from cs336_basics.bpe_tokenizer.serialization import load_merges, load_vocab, save_merges, save_vocab\n",
    "from cs336_basics.bpe_tokenizer.tinystories.train_bpe_tinystories import TS_MERGES_FILE, TS_VOCAB_FILE\n",
    "\n",
    "save_vocab(vocab, TS_VOCAB_FILE)\n",
    "save_merges(merges, TS_MERGES_FILE)\n",
    "\n",
    "loaded_vocab = load_vocab(TS_VOCAB_FILE)\n",
    "loaded_merges = load_merges(TS_MERGES_FILE)\n",
    "\n",
    "assert loaded_merges == merges\n",
    "assert vocab == loaded_vocab"
   ]
  }
 ],
 "metadata": {
  "kernelspec": {
   "display_name": ".venv",
   "language": "python",
   "name": "python3"
  },
  "language_info": {
   "codemirror_mode": {
    "name": "ipython",
    "version": 3
   },
   "file_extension": ".py",
   "mimetype": "text/x-python",
   "name": "python",
   "nbconvert_exporter": "python",
   "pygments_lexer": "ipython3",
   "version": "3.13.3"
  }
 },
 "nbformat": 4,
 "nbformat_minor": 2
}
