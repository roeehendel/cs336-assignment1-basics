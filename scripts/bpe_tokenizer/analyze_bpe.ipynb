{
 "cells": [
  {
   "cell_type": "code",
   "execution_count": 2,
   "metadata": {},
   "outputs": [],
   "source": [
    "from cs336_basics.bpe_tokenizer.serialization import load_merges, load_vocab\n",
    "from scripts.data.paths import OWT_MERGES_FILE, OWT_VOCAB_FILE\n",
    "\n",
    "# vocab = load_vocab(TS_VOCAB_FILE)\n",
    "# merges = load_merges(TS_MERGES_FILE)\n",
    "\n",
    "vocab = load_vocab(OWT_VOCAB_FILE)\n",
    "merges = load_merges(OWT_MERGES_FILE)"
   ]
  },
  {
   "cell_type": "code",
   "execution_count": 3,
   "metadata": {},
   "outputs": [
    {
     "data": {
      "text/plain": [
       "(b'----------------------------------------------------------------', 64)"
      ]
     },
     "execution_count": 3,
     "metadata": {},
     "output_type": "execute_result"
    }
   ],
   "source": [
    "longest_token = max((token for token in vocab.values()), key=lambda token: len(token))\n",
    "longest_token, len(longest_token)"
   ]
  }
 ],
 "metadata": {
  "kernelspec": {
   "display_name": ".venv",
   "language": "python",
   "name": "python3"
  },
  "language_info": {
   "codemirror_mode": {
    "name": "ipython",
    "version": 3
   },
   "file_extension": ".py",
   "mimetype": "text/x-python",
   "name": "python",
   "nbconvert_exporter": "python",
   "pygments_lexer": "ipython3",
   "version": "3.13.3"
  }
 },
 "nbformat": 4,
 "nbformat_minor": 2
}
